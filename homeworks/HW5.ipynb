{
 "cells": [
  {
   "cell_type": "markdown",
   "metadata": {},
   "source": [
    "# HW5\n",
    "\n",
    "For this homework, we are going to work with [*Indoor User Movement Prediction from RSS data*](https://archive.ics.uci.edu/ml/datasets/Indoor+User+Movement+Prediction+from+RSS+data) dataset from UCI.  The homework is due Friday, December 21st midnight. \n",
    "\n",
    "## Task 1\n",
    "\n",
    "Download the dataset and unzip it in under a subdirectory of `data` folder named `rss_data`.\n",
    "\n",
    "The files we are interested is in the subfolder `dataset`.  Each of these files whose names that start with `MovementAAL_RSS_` contain data collected from indivuduals. Each of these files represent a single data point.  There are 314 of these files, and hence, you have 314 data points.  Each file has 4 columns but the number of rows change from file to file.  \n",
    "\n",
    "There is also a file named `MovementALL_target.csv` in that folder. This file tells us the class each of these measurements are assigned. Some of these measurements are labelled with +1 and some are labelled with -1.\n",
    "\n",
    "## Task 2\n",
    "\n",
    "Construct a SVM model that separates +1 labelled data points from -1 data points.  You must first solve the problem that these datapoints do not have the same number of rows even though they all have the same number of columns. \n",
    "\n",
    "## Task 3\n",
    "\n",
    "Using [Keras](https://keras.io/getting-started/sequential-model-guide/) write a neural network model that separates +1 labelled data points from -1 data points.\n",
    "\n",
    "## Notes\n",
    "\n",
    "1. You must document each step of your tasks: what are you doing, why are you doing it, what problems you encountered and how you solved it.  All of these must be explained and documented.  Solutions without sufficient documentations will be penalized accordingly. 50% of your points will come from your code, while the other 50% will come from your explanations.\n",
    "\n",
    "1. You can use MS Excel to inspect the files, but loading them up to python using pandas and inspecting them there under jupyter is easier.\n",
    "\n",
    "3. Put the data in a separate subfolder of your `data` folder and rename it `rss_data`. I'll take points off if the data is not saved under the correct place.\n",
    "\n",
    "1. For both of Task 2 and Task 3, you must split your data into a train and test set, and then evaluate the accuracy of your model on the test set.\n",
    "\n"
   ]
  },
  {
   "cell_type": "markdown",
   "metadata": {},
   "source": [
    "# TASK 1"
   ]
  },
  {
   "cell_type": "code",
   "execution_count": 2,
   "metadata": {},
   "outputs": [
    {
     "name": "stderr",
     "output_type": "stream",
     "text": [
      "C:\\Users\\Halil\\anakonda3-1\\lib\\site-packages\\h5py\\__init__.py:36: FutureWarning: Conversion of the second argument of issubdtype from `float` to `np.floating` is deprecated. In future, it will be treated as `np.float64 == np.dtype(float).type`.\n",
      "  from ._conv import register_converters as _register_converters\n",
      "Using TensorFlow backend.\n"
     ]
    }
   ],
   "source": [
    "import glob\n",
    "import pandas as pd\n",
    "from sklearn import svm\n",
    "from sklearn.metrics import confusion_matrix\n",
    "from sklearn.metrics import classification_report\n",
    "from sklearn.model_selection import train_test_split\n",
    "import numpy as np\n",
    "import pandas as pd\n",
    "from sklearn import datasets\n",
    "from sklearn import neighbors\n",
    "from sklearn import linear_model\n",
    "from sklearn.svm import SVC\n",
    "from sklearn.metrics import confusion_matrix\n",
    "from sklearn.metrics import accuracy_score\n",
    "import matplotlib.pyplot as plt\n",
    "\n",
    "\n",
    "from keras.models import Sequential\n",
    "from keras.layers import Dense, Embedding\n",
    "from keras.layers import LSTM"
   ]
  },
  {
   "cell_type": "markdown",
   "metadata": {},
   "source": [
    "Kütüphaneler yüklendi."
   ]
  },
  {
   "cell_type": "code",
   "execution_count": 3,
   "metadata": {},
   "outputs": [],
   "source": [
    "csv_files=glob.glob(\"..//data//rss_data//dataset//MovementAAL_RSS_*.csv\")\n",
    "frames=[]\n",
    "for csv in csv_files:\n",
    "    df=pd.read_csv(csv)\n",
    "    frames.append(df)"
   ]
  },
  {
   "cell_type": "markdown",
   "metadata": {},
   "source": [
    "314 Adet veri noktasını glob fonksiyonunu kullanarak for döngüsüyle csv_files listesine atadık sonrasında frames listesine gönderdik."
   ]
  },
  {
   "cell_type": "code",
   "execution_count": 4,
   "metadata": {},
   "outputs": [
    {
     "name": "stdout",
     "output_type": "stream",
     "text": [
      "19\n"
     ]
    }
   ],
   "source": [
    "a=100\n",
    "for i in frames:\n",
    "    a=min(a,len(i))\n",
    "print(a)"
   ]
  },
  {
   "cell_type": "markdown",
   "metadata": {},
   "source": [
    "Dataların feature sayısı eşit değil yani satır sayısı eşit değil. Datanın en sonundan itibaren keseceğizki bulunduğu konumu tespit edelim."
   ]
  },
  {
   "cell_type": "code",
   "execution_count": 5,
   "metadata": {},
   "outputs": [],
   "source": [
    "\n",
    "l=[]\n",
    "for i in frames:\n",
    "    for row in range(1,20):\n",
    "        for col in range(4):\n",
    "            l.append(i.iloc[-row,col])"
   ]
  },
  {
   "cell_type": "markdown",
   "metadata": {},
   "source": [
    "l isminde bir yatayda bir matris oluşturup düz bir liste haline getiriyorum."
   ]
  },
  {
   "cell_type": "code",
   "execution_count": 7,
   "metadata": {},
   "outputs": [],
   "source": [
    "k=np.array(l)\n",
    "k=k.reshape(314,76)\n",
    "df=pd.DataFrame(k)"
   ]
  },
  {
   "cell_type": "code",
   "execution_count": 8,
   "metadata": {},
   "outputs": [],
   "source": [
    "targets = pd.read_csv('..//data//rss_data//dataset//MovementAAL_target.csv')\n",
    "targets=targets.drop(\"#sequence_ID\",axis=1)"
   ]
  },
  {
   "cell_type": "code",
   "execution_count": 12,
   "metadata": {},
   "outputs": [
    {
     "data": {
      "text/html": [
       "<div>\n",
       "<style scoped>\n",
       "    .dataframe tbody tr th:only-of-type {\n",
       "        vertical-align: middle;\n",
       "    }\n",
       "\n",
       "    .dataframe tbody tr th {\n",
       "        vertical-align: top;\n",
       "    }\n",
       "\n",
       "    .dataframe thead th {\n",
       "        text-align: right;\n",
       "    }\n",
       "</style>\n",
       "<table border=\"1\" class=\"dataframe\">\n",
       "  <thead>\n",
       "    <tr style=\"text-align: right;\">\n",
       "      <th></th>\n",
       "      <th>0</th>\n",
       "      <th>1</th>\n",
       "      <th>2</th>\n",
       "      <th>3</th>\n",
       "      <th>4</th>\n",
       "      <th>5</th>\n",
       "      <th>6</th>\n",
       "      <th>7</th>\n",
       "      <th>8</th>\n",
       "      <th>9</th>\n",
       "      <th>...</th>\n",
       "      <th>68</th>\n",
       "      <th>69</th>\n",
       "      <th>70</th>\n",
       "      <th>71</th>\n",
       "      <th>72</th>\n",
       "      <th>73</th>\n",
       "      <th>74</th>\n",
       "      <th>75</th>\n",
       "      <th>76</th>\n",
       "      <th>77</th>\n",
       "    </tr>\n",
       "  </thead>\n",
       "  <tbody>\n",
       "    <tr>\n",
       "      <th>0</th>\n",
       "      <td>-0.14286</td>\n",
       "      <td>-0.60</td>\n",
       "      <td>-0.28571</td>\n",
       "      <td>-0.10</td>\n",
       "      <td>0.00000</td>\n",
       "      <td>0.04</td>\n",
       "      <td>-0.047619</td>\n",
       "      <td>-0.05</td>\n",
       "      <td>0.00000</td>\n",
       "      <td>0.04</td>\n",
       "      <td>...</td>\n",
       "      <td>-0.047619</td>\n",
       "      <td>0.04</td>\n",
       "      <td>-0.095238</td>\n",
       "      <td>0.05</td>\n",
       "      <td>-0.095238</td>\n",
       "      <td>-0.08</td>\n",
       "      <td>0.142860</td>\n",
       "      <td>-0.55</td>\n",
       "      <td>1.0</td>\n",
       "      <td>1.0</td>\n",
       "    </tr>\n",
       "    <tr>\n",
       "      <th>1</th>\n",
       "      <td>0.19048</td>\n",
       "      <td>0.04</td>\n",
       "      <td>-0.38095</td>\n",
       "      <td>0.20</td>\n",
       "      <td>0.19048</td>\n",
       "      <td>0.00</td>\n",
       "      <td>-0.190480</td>\n",
       "      <td>-0.25</td>\n",
       "      <td>0.14286</td>\n",
       "      <td>-0.04</td>\n",
       "      <td>...</td>\n",
       "      <td>0.000000</td>\n",
       "      <td>-0.12</td>\n",
       "      <td>0.142860</td>\n",
       "      <td>0.10</td>\n",
       "      <td>-0.285710</td>\n",
       "      <td>-0.24</td>\n",
       "      <td>0.095238</td>\n",
       "      <td>0.15</td>\n",
       "      <td>1.0</td>\n",
       "      <td>1.0</td>\n",
       "    </tr>\n",
       "    <tr>\n",
       "      <th>2</th>\n",
       "      <td>0.28571</td>\n",
       "      <td>0.56</td>\n",
       "      <td>-0.57143</td>\n",
       "      <td>-0.75</td>\n",
       "      <td>0.33333</td>\n",
       "      <td>0.40</td>\n",
       "      <td>-0.952380</td>\n",
       "      <td>-0.65</td>\n",
       "      <td>0.14286</td>\n",
       "      <td>0.56</td>\n",
       "      <td>...</td>\n",
       "      <td>0.428570</td>\n",
       "      <td>0.04</td>\n",
       "      <td>-0.619050</td>\n",
       "      <td>-0.70</td>\n",
       "      <td>0.047619</td>\n",
       "      <td>0.32</td>\n",
       "      <td>-0.714290</td>\n",
       "      <td>-0.30</td>\n",
       "      <td>1.0</td>\n",
       "      <td>1.0</td>\n",
       "    </tr>\n",
       "    <tr>\n",
       "      <th>3</th>\n",
       "      <td>0.28571</td>\n",
       "      <td>0.20</td>\n",
       "      <td>-1.00000</td>\n",
       "      <td>-0.70</td>\n",
       "      <td>0.00000</td>\n",
       "      <td>0.04</td>\n",
       "      <td>-1.000000</td>\n",
       "      <td>-0.55</td>\n",
       "      <td>0.00000</td>\n",
       "      <td>0.04</td>\n",
       "      <td>...</td>\n",
       "      <td>0.523810</td>\n",
       "      <td>0.60</td>\n",
       "      <td>-0.428570</td>\n",
       "      <td>-0.55</td>\n",
       "      <td>0.476190</td>\n",
       "      <td>0.32</td>\n",
       "      <td>-0.380950</td>\n",
       "      <td>-0.30</td>\n",
       "      <td>1.0</td>\n",
       "      <td>1.0</td>\n",
       "    </tr>\n",
       "    <tr>\n",
       "      <th>4</th>\n",
       "      <td>0.42857</td>\n",
       "      <td>0.68</td>\n",
       "      <td>-0.28571</td>\n",
       "      <td>-0.30</td>\n",
       "      <td>0.42857</td>\n",
       "      <td>0.76</td>\n",
       "      <td>-0.476190</td>\n",
       "      <td>-0.60</td>\n",
       "      <td>0.00000</td>\n",
       "      <td>0.36</td>\n",
       "      <td>...</td>\n",
       "      <td>0.285710</td>\n",
       "      <td>0.60</td>\n",
       "      <td>-0.571430</td>\n",
       "      <td>-1.00</td>\n",
       "      <td>0.142860</td>\n",
       "      <td>0.76</td>\n",
       "      <td>-0.666670</td>\n",
       "      <td>-0.55</td>\n",
       "      <td>1.0</td>\n",
       "      <td>1.0</td>\n",
       "    </tr>\n",
       "  </tbody>\n",
       "</table>\n",
       "<p>5 rows × 78 columns</p>\n",
       "</div>"
      ],
      "text/plain": [
       "        0     1        2     3        4     5         6     7        8     9   \\\n",
       "0 -0.14286 -0.60 -0.28571 -0.10  0.00000  0.04 -0.047619 -0.05  0.00000  0.04   \n",
       "1  0.19048  0.04 -0.38095  0.20  0.19048  0.00 -0.190480 -0.25  0.14286 -0.04   \n",
       "2  0.28571  0.56 -0.57143 -0.75  0.33333  0.40 -0.952380 -0.65  0.14286  0.56   \n",
       "3  0.28571  0.20 -1.00000 -0.70  0.00000  0.04 -1.000000 -0.55  0.00000  0.04   \n",
       "4  0.42857  0.68 -0.28571 -0.30  0.42857  0.76 -0.476190 -0.60  0.00000  0.36   \n",
       "\n",
       "  ...         68    69        70    71        72    73        74    75   76  \\\n",
       "0 ...  -0.047619  0.04 -0.095238  0.05 -0.095238 -0.08  0.142860 -0.55  1.0   \n",
       "1 ...   0.000000 -0.12  0.142860  0.10 -0.285710 -0.24  0.095238  0.15  1.0   \n",
       "2 ...   0.428570  0.04 -0.619050 -0.70  0.047619  0.32 -0.714290 -0.30  1.0   \n",
       "3 ...   0.523810  0.60 -0.428570 -0.55  0.476190  0.32 -0.380950 -0.30  1.0   \n",
       "4 ...   0.285710  0.60 -0.571430 -1.00  0.142860  0.76 -0.666670 -0.55  1.0   \n",
       "\n",
       "    77  \n",
       "0  1.0  \n",
       "1  1.0  \n",
       "2  1.0  \n",
       "3  1.0  \n",
       "4  1.0  \n",
       "\n",
       "[5 rows x 78 columns]"
      ]
     },
     "execution_count": 12,
     "metadata": {},
     "output_type": "execute_result"
    }
   ],
   "source": [
    "df=np.column_stack([df,targets])\n",
    "df=pd.DataFrame(df)\n",
    "df.head()"
   ]
  },
  {
   "cell_type": "markdown",
   "metadata": {},
   "source": [
    "Dataframe haline getirildi."
   ]
  },
  {
   "cell_type": "markdown",
   "metadata": {},
   "source": [
    "# TASK 2"
   ]
  },
  {
   "cell_type": "markdown",
   "metadata": {},
   "source": [
    "Task 2'yi çözebilmek için datayı 2'ye ayırmak durumundayız. Bunlara train ve test set adlarını verdim. SVM'i uygulamak için çekirdeklerinden biri Radial basis function (RBF) yi kullandım."
   ]
  },
  {
   "cell_type": "code",
   "execution_count": 17,
   "metadata": {},
   "outputs": [
    {
     "name": "stdout",
     "output_type": "stream",
     "text": [
      "0.6582278481012658\n",
      "[[28 14]\n",
      " [13 24]]\n"
     ]
    }
   ],
   "source": [
    "X_train,X_test,y_train,y_test=train_test_split(df.iloc[:,:76],df.iloc[:,76])\n",
    "\n",
    "sv=SVC(kernel=\"rbf\",gamma=0.03,C=2)\n",
    "sv.fit(X_train,y_train)\n",
    "predicted=sv.predict(X_test)\n",
    "\n",
    "print(accuracy_score(y_test,predicted))\n",
    "print(confusion_matrix(y_test,predicted))"
   ]
  },
  {
   "cell_type": "markdown",
   "metadata": {},
   "source": [
    "Çıkan sonuçtan anlayabileceğimiz üzere iyi bir sonuç vermedi 0.60~0.70 arasında kaldı."
   ]
  }
 ],
 "metadata": {
  "kernelspec": {
   "display_name": "Python 3",
   "language": "python",
   "name": "python3"
  },
  "language_info": {
   "codemirror_mode": {
    "name": "ipython",
    "version": 3
   },
   "file_extension": ".py",
   "mimetype": "text/x-python",
   "name": "python",
   "nbconvert_exporter": "python",
   "pygments_lexer": "ipython3",
   "version": "3.6.5"
  }
 },
 "nbformat": 4,
 "nbformat_minor": 2
}
